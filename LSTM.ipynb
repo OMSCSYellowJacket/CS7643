{
 "cells": [
  {
   "cell_type": "code",
   "execution_count": null,
   "id": "e5611bef",
   "metadata": {},
   "outputs": [],
   "source": [
    "import numpy as np\n",
    "import pandas as pd\n",
    "import torch\n",
    "\n",
    "from pathlib import Path\n",
    "from sklearn.preprocessing import MinMaxScaler\n",
    "\n",
    "from models.StackedAutoEncoder import SimpleAutoEncoder, AutoEncoder, StackedAutoEncoder\n",
    "from models.LSTM import LSTM, GRU"
   ]
  },
  {
   "cell_type": "code",
   "execution_count": null,
   "id": "3e047286",
   "metadata": {},
   "outputs": [],
   "source": [
    "data = pd.read_excel(Path(\"model_data/RawData.xlsx\"), \"S&P500 Index Data\")\n",
    "features = list(data.columns[2:])\n",
    "# data[features] = data[features] / data[features].shift(1)\n",
    "data.dropna(inplace=True)\n",
    "train = data.loc[(data['Ntime'] >= 20120101) & (data['Ntime'] < 20140101)]\n",
    "val = data.loc[(data['Ntime'] >= 20140101) & (data['Ntime'] < 20140401)]\n",
    "test = data.loc[(data['Ntime'] >= 20140401) & (data['Ntime'] < 20140701)]\n",
    "data = data[features]\n",
    "data['target'] = data['Close Price'].shift(-1)\n",
    "data.head()"
   ]
  },
  {
   "cell_type": "code",
   "execution_count": null,
   "id": "fc8e6b79",
   "metadata": {},
   "outputs": [],
   "source": [
    "scaler = MinMaxScaler()\n",
    "scaler.fit(train)\n",
    "train = scaler.transform(train)"
   ]
  },
  {
   "cell_type": "code",
   "execution_count": null,
   "id": "61237648",
   "metadata": {},
   "outputs": [],
   "source": [
    "np.save(\"train.npy\", train)\n",
    "np.save(\"val.npy\", val)\n",
    "np.save(\"test.npy\", test)"
   ]
  },
  {
   "cell_type": "code",
   "execution_count": null,
   "id": "4a10197c",
   "metadata": {},
   "outputs": [],
   "source": [
    "def split_data(stock, lookback):\n",
    "    data_raw = stock\n",
    "    data = []\n",
    "    for index in range(len(data_raw) - lookback): \n",
    "        data.append(data_raw[index: index + lookback])\n",
    "    data = np.array(data)\n",
    "    x = data[:, :-1]\n",
    "    y = data[:, -1, :]\n",
    "    x = torch.tensor(x, dtype=torch.float32)\n",
    "    y = torch.tensor(y, dtype=torch.float32)\n",
    "    return x, y\n",
    "\n",
    "x_train, y_train = split_data(train, lookback=20)\n",
    "x_train.shape"
   ]
  },
  {
   "cell_type": "code",
   "execution_count": null,
   "id": "4fac20d5",
   "metadata": {},
   "outputs": [],
   "source": [
    "input_size = 21\n",
    "hidden_size = 32\n",
    "num_layers = 2\n",
    "output_size = 1\n",
    "dropout = 0.2\n",
    "num_epochs = 10_000\n",
    "\n",
    "model = LSTM(input_size=21, hidden_size=hidden_size, num_layers=num_layers, output_size=output_size, dropout=dropout)\n",
    "model.fit(x_train, y_train)"
   ]
  },
  {
   "cell_type": "code",
   "execution_count": null,
   "id": "0ba2c27c",
   "metadata": {},
   "outputs": [],
   "source": [
    "model = GRU(input_size=21, hidden_size=hidden_size, num_layers=num_layers, output_size=output_size, dropout=dropout)\n",
    "model.fit(x_train, y_train)"
   ]
  }
 ],
 "metadata": {
  "kernelspec": {
   "display_name": "a3",
   "language": "python",
   "name": "python3"
  },
  "language_info": {
   "codemirror_mode": {
    "name": "ipython",
    "version": 3
   },
   "file_extension": ".py",
   "mimetype": "text/x-python",
   "name": "python",
   "nbconvert_exporter": "python",
   "pygments_lexer": "ipython3",
   "version": "3.8.10"
  }
 },
 "nbformat": 4,
 "nbformat_minor": 5
}
